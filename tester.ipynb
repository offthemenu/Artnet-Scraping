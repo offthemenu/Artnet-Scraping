{
 "cells": [
  {
   "cell_type": "code",
   "execution_count": 129,
   "metadata": {},
   "outputs": [],
   "source": [
    "import requests\n",
    "from bs4 import BeautifulSoup\n",
    "import pandas as pd"
   ]
  },
  {
   "cell_type": "code",
   "execution_count": 119,
   "metadata": {},
   "outputs": [],
   "source": [
    "def get_watches(page_count):\n",
    "    \n",
    "    watches_dict = {}\n",
    "\n",
    "    try:\n",
    "        for n in range(1, page_count+1):\n",
    "            url = f\"https://www.liveauctioneers.com/c/watches/97/?page={n}\"\n",
    "\n",
    "            response = requests.get(url)\n",
    "\n",
    "            if response.status_code != 200:\n",
    "                print(f\"Failed to get the webpage: {response.status_code}\")\n",
    "                return []\n",
    "\n",
    "            soup = BeautifulSoup(response.text, 'html.parser')\n",
    "\n",
    "            watches_list = soup.find_all('section', class_ = \"CategorySearchCard__CategorySearchCardGrid-sc-1o7izf2-1 dliokm\")\n",
    "\n",
    "            for watch in watches_list:\n",
    "                \n",
    "                name_element = watch.find('span', class_='hui-text-body-primary text-text-primary')\n",
    "                if name_element:\n",
    "                    watch_name = name_element.text\n",
    "                else:\n",
    "                    # Skip or log the missing name\n",
    "                    print(f\"Missing watch name on page {n}\")\n",
    "                    continue\n",
    "\n",
    "                price_element = watch.find('span', class_ = 'FormattedCurrency__StyledFormattedCurrency-sc-1ugrxi1-0 cqnbDD')\n",
    "\n",
    "                if price_element:\n",
    "                    watch_price_str = price_element.text\n",
    "                    if watch_price_str[0] != \"$\":\n",
    "                        print(f\"Not in USD in page {n}. Excluding result to avoid confusion\")\n",
    "                        continue \n",
    "                    else:\n",
    "                        watch_price = float(watch_price_str.replace('$', '').replace(',', ''))\n",
    "                else:\n",
    "                    print(f\"Missing watch price on page {n}\")\n",
    "                    continue\n",
    "                \n",
    "                watches_dict[watch_name] = watch_price\n",
    "        \n",
    "        return watches_dict\n",
    "    \n",
    "    except Exception as e:\n",
    "        print(f\"Error has occurred: {e}\")\n",
    "        return []"
   ]
  },
  {
   "cell_type": "code",
   "execution_count": 152,
   "metadata": {},
   "outputs": [],
   "source": [
    "def watch_shortlist(page_count, target_price, plus_minus):\n",
    "    watches = get_watches(page_count = page_count)\n",
    "    # shortlist = {}\n",
    "    shortlist_df = pd.DataFrame()\n",
    "\n",
    "    price_lower_bound = max(0, target_price - plus_minus)\n",
    "    price_upper_bound = target_price + plus_minus\n",
    "\n",
    "    for key, value in watches.items():\n",
    "        if value >= price_lower_bound and value <= price_upper_bound:\n",
    "            row = pd.DataFrame({\"Name\": [key], \"Price\": [value]})\n",
    "            shortlist_df = pd.concat([shortlist_df, row], ignore_index=True)\n",
    "    \n",
    "    shortlist_df = shortlist_df.sort_values(by=[\"Price\"], ascending= True)\n",
    "    \n",
    "    return shortlist_df"
   ]
  },
  {
   "cell_type": "code",
   "execution_count": 156,
   "metadata": {},
   "outputs": [
    {
     "name": "stdout",
     "output_type": "stream",
     "text": [
      "Missing watch price on page 2\n"
     ]
    }
   ],
   "source": [
    "watches = watch_shortlist(2, 1000, 100)"
   ]
  },
  {
   "cell_type": "code",
   "execution_count": 157,
   "metadata": {},
   "outputs": [
    {
     "data": {
      "text/html": [
       "<div>\n",
       "<style scoped>\n",
       "    .dataframe tbody tr th:only-of-type {\n",
       "        vertical-align: middle;\n",
       "    }\n",
       "\n",
       "    .dataframe tbody tr th {\n",
       "        vertical-align: top;\n",
       "    }\n",
       "\n",
       "    .dataframe thead th {\n",
       "        text-align: right;\n",
       "    }\n",
       "</style>\n",
       "<table border=\"1\" class=\"dataframe\">\n",
       "  <thead>\n",
       "    <tr style=\"text-align: right;\">\n",
       "      <th></th>\n",
       "      <th>Name</th>\n",
       "      <th>Price</th>\n",
       "    </tr>\n",
       "  </thead>\n",
       "  <tbody>\n",
       "    <tr>\n",
       "      <th>9</th>\n",
       "      <td>Hamilton Watch Co 14kt Gold Railroad Conductor...</td>\n",
       "      <td>900.0</td>\n",
       "    </tr>\n",
       "    <tr>\n",
       "      <th>8</th>\n",
       "      <td>Hermès Rallye PM watch</td>\n",
       "      <td>950.0</td>\n",
       "    </tr>\n",
       "    <tr>\n",
       "      <th>0</th>\n",
       "      <td>Hermès Arceau 33mm watch</td>\n",
       "      <td>1000.0</td>\n",
       "    </tr>\n",
       "    <tr>\n",
       "      <th>1</th>\n",
       "      <td>Omega Memomaster 1632</td>\n",
       "      <td>1000.0</td>\n",
       "    </tr>\n",
       "    <tr>\n",
       "      <th>7</th>\n",
       "      <td>Hermès Arceau 30mm watch</td>\n",
       "      <td>1000.0</td>\n",
       "    </tr>\n",
       "    <tr>\n",
       "      <th>4</th>\n",
       "      <td>Hermès Arceau AR4.720 watch</td>\n",
       "      <td>1000.0</td>\n",
       "    </tr>\n",
       "    <tr>\n",
       "      <th>3</th>\n",
       "      <td>Hermès Sellier 32mm watch</td>\n",
       "      <td>1000.0</td>\n",
       "    </tr>\n",
       "    <tr>\n",
       "      <th>2</th>\n",
       "      <td>Early J. Hasius Dutch Pocket Watch</td>\n",
       "      <td>1100.0</td>\n",
       "    </tr>\n",
       "    <tr>\n",
       "      <th>6</th>\n",
       "      <td>Jaeger-LeCoultre Master Control Automatic Watch</td>\n",
       "      <td>1100.0</td>\n",
       "    </tr>\n",
       "    <tr>\n",
       "      <th>5</th>\n",
       "      <td>Poiray Ma Première (26x22mm) watch</td>\n",
       "      <td>1100.0</td>\n",
       "    </tr>\n",
       "  </tbody>\n",
       "</table>\n",
       "</div>"
      ],
      "text/plain": [
       "                                                Name   Price\n",
       "9  Hamilton Watch Co 14kt Gold Railroad Conductor...   900.0\n",
       "8                             Hermès Rallye PM watch   950.0\n",
       "0                           Hermès Arceau 33mm watch  1000.0\n",
       "1                              Omega Memomaster 1632  1000.0\n",
       "7                           Hermès Arceau 30mm watch  1000.0\n",
       "4                        Hermès Arceau AR4.720 watch  1000.0\n",
       "3                          Hermès Sellier 32mm watch  1000.0\n",
       "2                 Early J. Hasius Dutch Pocket Watch  1100.0\n",
       "6    Jaeger-LeCoultre Master Control Automatic Watch  1100.0\n",
       "5                 Poiray Ma Première (26x22mm) watch  1100.0"
      ]
     },
     "execution_count": 157,
     "metadata": {},
     "output_type": "execute_result"
    }
   ],
   "source": [
    "watches"
   ]
  },
  {
   "cell_type": "code",
   "execution_count": null,
   "metadata": {},
   "outputs": [],
   "source": []
  }
 ],
 "metadata": {
  "kernelspec": {
   "display_name": ".venv",
   "language": "python",
   "name": "python3"
  },
  "language_info": {
   "codemirror_mode": {
    "name": "ipython",
    "version": 3
   },
   "file_extension": ".py",
   "mimetype": "text/x-python",
   "name": "python",
   "nbconvert_exporter": "python",
   "pygments_lexer": "ipython3",
   "version": "3.12.3"
  }
 },
 "nbformat": 4,
 "nbformat_minor": 2
}
