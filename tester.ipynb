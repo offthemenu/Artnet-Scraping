{
 "cells": [
  {
   "cell_type": "code",
   "execution_count": 14,
   "metadata": {},
   "outputs": [],
   "source": [
    "import requests\n",
    "from bs4 import BeautifulSoup"
   ]
  },
  {
   "cell_type": "code",
   "execution_count": 61,
   "metadata": {},
   "outputs": [],
   "source": [
    "def scrape_the_list(url):\n",
    "    try:\n",
    "        response = requests.get(url)\n",
    "\n",
    "        if response.status_code != 200:\n",
    "            print(f\"Failed to get the webpage: {response.status_code}\")\n",
    "            return []\n",
    "        \n",
    "        soup = BeautifulSoup(response.text, 'html.parser')\n",
    "\n",
    "        watches_list = soup.find_all('section', class_ = \"CategorySearchCard__CategorySearchCardGrid-sc-1o7izf2-1 dliokm\")\n",
    "\n",
    "        watches_dict = dict()\n",
    "\n",
    "        for index, watch in enumerate(watches_list, 1):\n",
    "            \n",
    "            item_name = soup.find('span', class_ = 'hui-text-body-primary text-text-primary').text\n",
    "\n",
    "            item_price_str = soup.find('span', class_ = 'FormattedCurrency__StyledFormattedCurrency-sc-1ugrxi1-0 cqnbDD').text\n",
    "            \n",
    "            watches_dict[index] = {}\n",
    "            watches_dict[index][\"Name\"] = item_name\n",
    "            watches_dict[index][\"Price\"] = item_price_str\n",
    "\n",
    "        return watches_dict\n",
    "\n",
    "    except Exception as e:\n",
    "        print(f\"Error has occurred: {e}\")\n",
    "        return []    \n",
    "\n",
    "def get_watches(url):\n",
    "    # url: string of https URL from liveauctioneers.com\n",
    "\n",
    "    results = scrape_the_list(url)\n",
    "\n",
    "    return results"
   ]
  },
  {
   "cell_type": "code",
   "execution_count": 62,
   "metadata": {},
   "outputs": [],
   "source": [
    "url = \"https://www.liveauctioneers.com/c/watches/97/\"\n",
    "\n",
    "watches = get_watches(url)"
   ]
  },
  {
   "cell_type": "code",
   "execution_count": 63,
   "metadata": {},
   "outputs": [
    {
     "name": "stdout",
     "output_type": "stream",
     "text": [
      "{1: {'Name': 'Wakmann Skin Diver 356945', 'Price': '$550'}, 2: {'Name': 'Wakmann Skin Diver 356945', 'Price': '$550'}, 3: {'Name': 'Wakmann Skin Diver 356945', 'Price': '$550'}, 4: {'Name': 'Wakmann Skin Diver 356945', 'Price': '$550'}, 5: {'Name': 'Wakmann Skin Diver 356945', 'Price': '$550'}, 6: {'Name': 'Wakmann Skin Diver 356945', 'Price': '$550'}, 7: {'Name': 'Wakmann Skin Diver 356945', 'Price': '$550'}, 8: {'Name': 'Wakmann Skin Diver 356945', 'Price': '$550'}, 9: {'Name': 'Wakmann Skin Diver 356945', 'Price': '$550'}, 10: {'Name': 'Wakmann Skin Diver 356945', 'Price': '$550'}, 11: {'Name': 'Wakmann Skin Diver 356945', 'Price': '$550'}, 12: {'Name': 'Wakmann Skin Diver 356945', 'Price': '$550'}, 13: {'Name': 'Wakmann Skin Diver 356945', 'Price': '$550'}, 14: {'Name': 'Wakmann Skin Diver 356945', 'Price': '$550'}, 15: {'Name': 'Wakmann Skin Diver 356945', 'Price': '$550'}, 16: {'Name': 'Wakmann Skin Diver 356945', 'Price': '$550'}, 17: {'Name': 'Wakmann Skin Diver 356945', 'Price': '$550'}, 18: {'Name': 'Wakmann Skin Diver 356945', 'Price': '$550'}, 19: {'Name': 'Wakmann Skin Diver 356945', 'Price': '$550'}, 20: {'Name': 'Wakmann Skin Diver 356945', 'Price': '$550'}, 21: {'Name': 'Wakmann Skin Diver 356945', 'Price': '$550'}, 22: {'Name': 'Wakmann Skin Diver 356945', 'Price': '$550'}, 23: {'Name': 'Wakmann Skin Diver 356945', 'Price': '$550'}, 24: {'Name': 'Wakmann Skin Diver 356945', 'Price': '$550'}, 25: {'Name': 'Wakmann Skin Diver 356945', 'Price': '$550'}, 26: {'Name': 'Wakmann Skin Diver 356945', 'Price': '$550'}, 27: {'Name': 'Wakmann Skin Diver 356945', 'Price': '$550'}, 28: {'Name': 'Wakmann Skin Diver 356945', 'Price': '$550'}, 29: {'Name': 'Wakmann Skin Diver 356945', 'Price': '$550'}, 30: {'Name': 'Wakmann Skin Diver 356945', 'Price': '$550'}, 31: {'Name': 'Wakmann Skin Diver 356945', 'Price': '$550'}, 32: {'Name': 'Wakmann Skin Diver 356945', 'Price': '$550'}, 33: {'Name': 'Wakmann Skin Diver 356945', 'Price': '$550'}, 34: {'Name': 'Wakmann Skin Diver 356945', 'Price': '$550'}, 35: {'Name': 'Wakmann Skin Diver 356945', 'Price': '$550'}, 36: {'Name': 'Wakmann Skin Diver 356945', 'Price': '$550'}, 37: {'Name': 'Wakmann Skin Diver 356945', 'Price': '$550'}, 38: {'Name': 'Wakmann Skin Diver 356945', 'Price': '$550'}, 39: {'Name': 'Wakmann Skin Diver 356945', 'Price': '$550'}}\n"
     ]
    }
   ],
   "source": [
    "print(watches)"
   ]
  },
  {
   "cell_type": "code",
   "execution_count": null,
   "metadata": {},
   "outputs": [],
   "source": []
  }
 ],
 "metadata": {
  "kernelspec": {
   "display_name": ".venv",
   "language": "python",
   "name": "python3"
  },
  "language_info": {
   "codemirror_mode": {
    "name": "ipython",
    "version": 3
   },
   "file_extension": ".py",
   "mimetype": "text/x-python",
   "name": "python",
   "nbconvert_exporter": "python",
   "pygments_lexer": "ipython3",
   "version": "3.12.3"
  }
 },
 "nbformat": 4,
 "nbformat_minor": 2
}
