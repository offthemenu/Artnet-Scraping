{
 "cells": [
  {
   "cell_type": "code",
   "execution_count": 3,
   "metadata": {},
   "outputs": [],
   "source": [
    "import requests\n",
    "from bs4 import BeautifulSoup\n",
    "\n",
    "def scrape_the_list(url):\n",
    "    try:\n",
    "        response = requests.get(url)\n",
    "\n",
    "        if response.status_code != 200:\n",
    "            print(f\"Failed to get the webpage: {response.status_code}\")\n",
    "            return []\n",
    "        \n",
    "        soup = BeautifulSoup(response.text, 'html.parser')\n",
    "\n",
    "        watches = soup.find_all('section', class_ = \"CategorySearchCard__CategorySearchCardGrid-sc-1o7izf2-1 dliokm\")\n",
    "\n",
    "        return watches\n",
    "\n",
    "    except Exception as e:\n",
    "        print(f\"Error has occurred: {e}\")\n",
    "        return []    \n",
    "\n",
    "def get_watches(url):\n",
    "\n",
    "    watches = scrape_the_list(url)\n",
    "\n",
    "    return watches"
   ]
  },
  {
   "cell_type": "code",
   "execution_count": 4,
   "metadata": {},
   "outputs": [],
   "source": [
    "url = \"https://www.liveauctioneers.com/c/watches/97/\"\n",
    "\n",
    "watchesRaw = get_watches(url)"
   ]
  },
  {
   "cell_type": "code",
   "execution_count": 6,
   "metadata": {},
   "outputs": [
    {
     "name": "stdout",
     "output_type": "stream",
     "text": [
      "<section class=\"CategorySearchCard__CategorySearchCardGrid-sc-1o7izf2-1 dliokm\"><span class=\"sc-hyJTBr sc-eVfmHL gnKlnf gjGoIX CategorySearchCard__PlacedFeatureBadge-sc-1o7izf2-2 feDPlu\" data-testid=\"infobadge\">Featured</span><section class=\"CardImage__StyledCardImage-sc-1fhtv7y-0 iJqoBF\"><span class=\"CardImage__StyledFavoriteButton-sc-1fhtv7y-2 kAjOSQ\"><button aria-label=\"favorite button\" aria-pressed=\"false\" class=\"sc-jwukFe deiwSf\"><svg class=\"sc-beySPh sc-guDLey ddDVWc eWXRzU sc-dKOINR dkjREJ\" data-testid=\"heart-icon-small\" fill=\"none\" height=\"20\" role=\"none\" viewbox=\"0 0 20 20\" width=\"20\" xmlns=\"http://www.w3.org/2000/svg\"><path d=\"M16.325 4.00979C14.5187 2.49145 11.7281 2.71951 10 4.47841C8.27187 2.71951 5.48125 2.48832 3.675 4.00979C1.325 5.98737 1.66875 9.21149 3.34375 10.9204L8.825 16.5033C9.1375 16.8219 9.55625 17 10 17C10.4469 17 10.8625 16.825 11.175 16.5064L16.6562 10.9235C18.3281 9.21462 18.6781 5.9905 16.325 4.00979ZM15.5875 9.86757L10.1062 15.4504C10.0312 15.5254 9.96875 15.5254 9.89375 15.4504L4.4125 9.86757C3.27188 8.70538 3.04063 6.50598 4.64063 5.15947C5.85625 4.13788 7.73125 4.29096 8.90625 5.48751L10 6.60283L11.0937 5.48751C12.275 4.28471 14.15 4.13788 15.3594 5.15635C16.9562 6.50286 16.7187 8.71476 15.5875 9.86757Z\"></path></svg><svg class=\"sc-beySPh sc-guDLey ddDVWc eWXRzU sc-lidIEE aRBFA\" data-testid=\"heart-filled-icon-small\" fill=\"none\" height=\"20\" role=\"none\" viewbox=\"0 0 20 20\" width=\"20\" xmlns=\"http://www.w3.org/2000/svg\"><path d=\"M16.325 4.00978C14.5187 2.49145 11.7281 2.71951 10 4.47841C8.27187 2.71951 5.48125 2.48832 3.675 4.00978C1.325 5.98737 1.66875 9.21149 3.34375 10.9204L8.825 16.5033C9.1375 16.8219 9.55625 17 10 17C10.4469 17 10.8625 16.825 11.175 16.5064L16.6562 10.9235C18.3281 9.21462 18.6781 5.9905 16.325 4.00978Z\"></path></svg></button></span><a class=\"sc-hVsJot bBaLpS ImageRow__ContainerLink-sc-1s4yel2-0 jyFmZv CardImage__ItemCardImageGrid-sc-1fhtv7y-1 gaEueP\" data-testid=\"itemCard\" href=\"/item/186021974_vintage-9k-gold-tonneau-rolex-mens-winding-watch-c1939-serviced-very-rare\" rel=\"\"><div class=\"ImageRow__ImageContainerDiv-sc-1s4yel2-1 gDpxph\" data-testid=\"itemCardImage\"><div class=\"ImageRow__ImageWithHoverDiv-sc-1s4yel2-2\"><div class=\"\" data-testid=\"imageWithHover\"><div class=\"ImageWithHover__SecondaryImageContainer-sc-1b860cz-2 djtCBn\"></div><img alt=\"Vintage 9k Gold Tonneau ROLEX Mens Winding Watch c.1939 SERVICED* VERY RARE: Vintage 9k Gold Tonneau ROLEX Men's Winding Watch c.1939 SERVICED* VERY RARE This Men's Rolex? watch is Swiss made. Great present for yourself or someone you love! Very Rare! * Solid 9k (375) yellow &amp;\" class=\"ImageWithHover__PrimaryImage-sc-1b860cz-1 dndDYm\" height=\"282\" loading=\"eager\" src=\"https://p1.liveauctioneers.com/5584/342674/186021974_1_x.jpg?height=310&amp;quality=70&amp;version=1726000318\" width=\"282\"/></div></div></div></a></section><section class=\"CardInfo__CardInfoSection-sc-1bvw270-0 jkoVBu\"><span class=\"CardInfo__StyledDateInfo-sc-1bvw270-1 bZIRIR\"><span class=\"hui-text-body-secondary text-text-primary\"><span class=\"hui-text-body-secondary text-text-primary\" data-testid=\"date-span\"><span class=\"hui-text-body-secondary text-text-critical CatalogDate__CountdownSpan-sc-132deab-0 gSFnuw\">4 days Left</span></span></span></span><a class=\"cursor-pointer outline-offset-2 transition-colors hover:underline aria-disabled:cursor-not-allowed aria-disabled:text-link-disabled hui-link-md underline text-link-secondary hover:text-link-hover active:text-link-pressed hui-focus-visible-outline CardInfo__StyledAuctionHouseName-sc-1bvw270-2 kEQWym\" data-testid=\"cardInfoAuctionHouseName\" href=\"/auctioneer/5584/jasper52/\" tabindex=\"0\" target=\"\" to=\"/auctioneer/5584/jasper52/\"><span class=\"hui-text-body-secondary text-text-secondary\">Jasper52</span></a></section><a class=\"sc-hVsJot bBaLpS ItemCardTitle__ContainerLink-sc-1tlsgmv-0 hKJOHL CategorySearchCard__CardTitle-sc-1o7izf2-3 dmYUBl\" data-testid=\"link\" href=\"/item/186021974_vintage-9k-gold-tonneau-rolex-mens-winding-watch-c1939-serviced-very-rare\" rel=\"\"><span class=\"hui-text-body-primary text-text-primary\">Vintage 9k Gold Tonneau ROLEX Mens Winding Watch c.1939 SERVICED* VERY RARE</span></a><section class=\"CardPrice__CardPriceSection-sc-4ass5j-0 brZWhe\"><section class=\"CardPrice__StyledBidInfoSection-sc-4ass5j-1 kxPgek\"><section class=\"CardPrice__StyledBidInfo-sc-4ass5j-2 dicsZd\"><section><span><a class=\"sc-hVsJot dCrTYt\" data-testid=\"link\" href=\"/item/186021974_vintage-9k-gold-tonneau-rolex-mens-winding-watch-c1939-serviced-very-rare\"><span class=\"sc-eajuUM ItemCardPriceRow__StyledPriceLinkText-sc-jk2rpk-2 hdbLJf hCyeqQ\"><span class=\"FormattedCurrency__StyledFormattedCurrency-sc-1ugrxi1-0 cqnbDD\">$6,000</span></span></a></span></section></section></section></section></section>\n"
     ]
    }
   ],
   "source": [
    "print(watchesRaw[0])"
   ]
  },
  {
   "cell_type": "code",
   "execution_count": null,
   "metadata": {},
   "outputs": [],
   "source": []
  }
 ],
 "metadata": {
  "kernelspec": {
   "display_name": ".venv",
   "language": "python",
   "name": "python3"
  },
  "language_info": {
   "codemirror_mode": {
    "name": "ipython",
    "version": 3
   },
   "file_extension": ".py",
   "mimetype": "text/x-python",
   "name": "python",
   "nbconvert_exporter": "python",
   "pygments_lexer": "ipython3",
   "version": "3.12.3"
  }
 },
 "nbformat": 4,
 "nbformat_minor": 2
}
